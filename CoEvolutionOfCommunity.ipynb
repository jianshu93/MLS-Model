{
 "cells": [
  {
   "cell_type": "code",
   "execution_count": 5,
   "metadata": {},
   "outputs": [],
   "source": [
    "import MLS_coevolveCoop as mlsco\n",
    "%matplotlib notebook\n",
    "import matplotlib.pyplot as plt\n",
    "\n",
    "model_par_def = {\n",
    "                #fixed model parameters\n",
    "                \"sampling\" : \"sample\",\n",
    "                \"maxT\"  : 15000., \n",
    "                \"sampleT\": 100,\n",
    "                \"mu\"    : 0.05,\n",
    "                \"B_H\"   : 3.,\n",
    "                \"D_H\"   : 1./20.,\n",
    "                #variable model parameters\n",
    "                \"cost\" : 0.2,\n",
    "                \"TAU_H\" : 100.,\n",
    "                \"n0\"    : 1E-3,\n",
    "                \"mig\"   : 1E-4,\n",
    "                \"r\"     : 1.,\n",
    "                \"K\"     : 1E3,\n",
    "                \"sigmaBirth\" : 0.2,\n",
    "                \"sigmaHostInv\" : 0.0,\n",
    "                #fixed intial condition\n",
    "                \"NUMGROUP\" : 40,  \n",
    "                \"numTypeBins\" : 100,\n",
    "                \"meanGamma0\" : 0.5,\n",
    "                \"stdGamma0\" : 0.01,\n",
    "                \"N0init\" : 1.,\n",
    "                \"hostInv0\" : 0.\n",
    "        }\n"
   ]
  },
  {
   "cell_type": "code",
   "execution_count": null,
   "metadata": {},
   "outputs": [
    {
     "name": "stdout",
     "output_type": "stream",
     "text": [
      "using dt=0.01\n"
     ]
    }
   ],
   "source": [
    "model_par1 = model_par_def.copy()\n",
    "Output1, Outputstate1 = mlsco.single_run_with_plot(model_par1)\n",
    "\n"
   ]
  },
  {
   "cell_type": "code",
   "execution_count": null,
   "metadata": {},
   "outputs": [],
   "source": []
  }
 ],
 "metadata": {
  "kernelspec": {
   "display_name": "Python 3",
   "language": "python",
   "name": "python3"
  },
  "language_info": {
   "codemirror_mode": {
    "name": "ipython",
    "version": 3
   },
   "file_extension": ".py",
   "mimetype": "text/x-python",
   "name": "python",
   "nbconvert_exporter": "python",
   "pygments_lexer": "ipython3",
   "version": "3.6.5"
  }
 },
 "nbformat": 4,
 "nbformat_minor": 2
}
