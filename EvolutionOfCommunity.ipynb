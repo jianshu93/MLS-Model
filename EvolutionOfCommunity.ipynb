{
 "cells": [
  {
   "cell_type": "code",
   "execution_count": 14,
   "metadata": {},
   "outputs": [],
   "source": [
    "import MLS_evolveCoop as mlse\n",
    "\n",
    "model_par_def = {\n",
    "                #fixed model parameters\n",
    "                \"sampling\" : \"sample\",\n",
    "                \"maxT\"  : 20000., \n",
    "                \"sampleT\": 100.,\n",
    "                \"mu\"    : 0.05,\n",
    "                \"B_H\"   : 3.,\n",
    "                \"D_H\"   : 1./40.,\n",
    "                #variable model parameters\n",
    "                \"cost\" : 0.1,\n",
    "                \"TAU_H\" : 100.,\n",
    "                \"n0\"    : 1E-3,\n",
    "                \"mig\"   : 1E-6,\n",
    "                \"r\"     : 1.,\n",
    "                \"K\"     : 1E3,\n",
    "                \"sigmaBirth\" : 0.2,\n",
    "                #fixed intial condition\n",
    "                \"NUMGROUP\" : 40,  \n",
    "                \"numTypeBins\" : 100,\n",
    "                \"meanGamma0\" : 0,\n",
    "                \"stdGamma0\" : 0.001,\n",
    "                \"N0init\" : 1.\n",
    "        }"
   ]
  },
  {
   "cell_type": "code",
   "execution_count": 12,
   "metadata": {},
   "outputs": [],
   "source": [
    "model_par = model_par_def\n"
   ]
  },
  {
   "cell_type": "code",
   "execution_count": 13,
   "metadata": {},
   "outputs": [
    {
     "data": {
      "text/plain": [
       "{'sampling': 'sample',\n",
       " 'maxT': 50000.0,\n",
       " 'sampleT': 100.0,\n",
       " 'mu': 0.01,\n",
       " 'B_H': 3.0,\n",
       " 'D_H': 0.025,\n",
       " 'cost': 1,\n",
       " 'TAU_H': 100.0,\n",
       " 'n0': 0.001,\n",
       " 'mig': 1e-06,\n",
       " 'r': 1.0,\n",
       " 'K': 1000.0,\n",
       " 'sigmaBirth': 0.2,\n",
       " 'NUMGROUP': 40,\n",
       " 'numTypeBins': 100,\n",
       " 'meanGamma0': 0,\n",
       " 'stdGamma0': 0.001,\n",
       " 'N0init': 1.0}"
      ]
     },
     "execution_count": 13,
     "metadata": {},
     "output_type": "execute_result"
    }
   ],
   "source": [
    "MODEL_PAR_EVOL"
   ]
  },
  {
   "cell_type": "code",
   "execution_count": null,
   "metadata": {},
   "outputs": [],
   "source": []
  }
 ],
 "metadata": {
  "kernelspec": {
   "display_name": "Python 3",
   "language": "python",
   "name": "python3"
  },
  "language_info": {
   "codemirror_mode": {
    "name": "ipython",
    "version": 3
   },
   "file_extension": ".py",
   "mimetype": "text/x-python",
   "name": "python",
   "nbconvert_exporter": "python",
   "pygments_lexer": "ipython3",
   "version": "3.6.5"
  }
 },
 "nbformat": 4,
 "nbformat_minor": 2
}
